{
  "nbformat": 4,
  "nbformat_minor": 0,
  "metadata": {
    "colab": {
      "name": "NOTEBOOK 1",
      "provenance": [],
      "collapsed_sections": [
        "ckfufNrcUHeH",
        "6XC_g-zKxe-r",
        "FlBMxEDBUc9B",
        "rF2ABPsHUtbZ"
      ],
      "toc_visible": true,
      "include_colab_link": true
    },
    "kernelspec": {
      "name": "python3",
      "display_name": "Python 3"
    }
  },
  "cells": [
    {
      "cell_type": "markdown",
      "metadata": {
        "id": "view-in-github",
        "colab_type": "text"
      },
      "source": [
        "<a href=\"https://colab.research.google.com/github/BrendaChepkoech/WEEK-9-PROJECT/blob/main/NOTEBOOK_1.ipynb\" target=\"_parent\"><img src=\"https://colab.research.google.com/assets/colab-badge.svg\" alt=\"Open In Colab\"/></a>"
      ]
    },
    {
      "cell_type": "markdown",
      "metadata": {
        "id": "kLG2VTrnTvYL"
      },
      "source": [
        "## 1. Defining the Question"
      ]
    },
    {
      "cell_type": "markdown",
      "metadata": {
        "id": "XecOwPNorl2W"
      },
      "source": [
        "### a) Specifying the Data Analytic Question"
      ]
    },
    {
      "cell_type": "markdown",
      "metadata": {
        "id": "9ozBnKfehSAw"
      },
      "source": [
        "We are required to predict whether a passenger survived or not in the Titanic dataset"
      ]
    },
    {
      "cell_type": "markdown",
      "metadata": {
        "id": "J4wfHZwQrs-t"
      },
      "source": [
        "### b) Defining the Metric for Success"
      ]
    },
    {
      "cell_type": "markdown",
      "source": [
        "To be able to create an algorithm that can help us classify the passengers in terms of survival in the Titanic dataset with an accuracy of 75% and above."
      ],
      "metadata": {
        "id": "eP3JLRgwR0fr"
      }
    },
    {
      "cell_type": "markdown",
      "metadata": {
        "id": "a9BPYqunry97"
      },
      "source": [
        "### c) Understanding the context "
      ]
    },
    {
      "cell_type": "markdown",
      "source": [
        "The RMS Titanic was known as the unsinkable ship and was the largest, most luxurious passenger ship of its time. Sadly, the Titanic sank on April 15, 1912, killing over 1500 people while just 705 survived.\n",
        "\n",
        "The following are the dataset column descriptions:\n",
        "\n",
        "pclass - Passenger Class (1 = 1st; 2 = 2nd; 3 = 3rd)\n",
        "\n",
        "survived - Survival (0 = No, 1 = Yes)\n",
        "\n",
        "name - Name of the passenger\n",
        "\n",
        "sex - Gender/sex\n",
        "\n",
        "age - Age of the passenger\n",
        "\n",
        "sibsp - Number of siblings/spouses aboard\n",
        "\n",
        "parch - Number of parents/children aboard\n",
        "\n",
        "fare - Passenger fare\n",
        "\n",
        "embarked - Port of embarkation (Cherboug, Queenstown, Southampton)"
      ],
      "metadata": {
        "id": "op403WHbSArX"
      }
    },
    {
      "cell_type": "markdown",
      "metadata": {
        "id": "7KMRBJ7zr9HD"
      },
      "source": [
        "### d) Recording the Experimental Design"
      ]
    },
    {
      "cell_type": "markdown",
      "source": [
        "Import the relevant libraries that we will use in our analysis\n",
        "\n",
        "Read and explore the dataset we will use for our project\n",
        "\n",
        "Define the appropriateness of the available data with regards to the project\n",
        "\n",
        "Find and deal with outliers, anomalies, and missing data within the dataset.\n",
        "\n",
        "Perform univariate and bivariate analysis while recording our observations.\n",
        "\n",
        "Implement the solution by using the KNN classifier algorithm to predict whether a passenger survived in the Titanic crash\n",
        "\n",
        "Challenge the solution by giving insights on how we can optimize the model to give us a better performance\n",
        "\n",
        "Provide recommendations based on the performance of our models"
      ],
      "metadata": {
        "id": "JHJG4hoSSNud"
      }
    },
    {
      "cell_type": "markdown",
      "metadata": {
        "id": "zSGyg6kWsBUl"
      },
      "source": [
        "### e) Data Relevance"
      ]
    },
    {
      "cell_type": "markdown",
      "source": [
        "Import the relevant libraries that we will use in our analysis\n",
        "Read and explore the dataset we will use for our project\n",
        "Define the appropriateness of the available data with regards to the project\n",
        "Find and deal with outliers, anomalies, and missing data within the dataset.\n",
        "Perform univariate and bivariate analysis while recording our observations.\n",
        "Implement the solution by using the KNN classifier algorithm to predict whether a passenger survived in the Titanic crash\n",
        "Challenge the solution by giving insights on how we can optimize the model to give us a better performance\n",
        "Provide recommendations based on the performance of our models"
      ],
      "metadata": {
        "id": "Kn0tsKl7SerP"
      }
    },
    {
      "cell_type": "markdown",
      "metadata": {
        "id": "iUNbvIvnT7ep"
      },
      "source": [
        "## 2. Reading the Data"
      ]
    },
    {
      "cell_type": "code",
      "source": [
        "#from pydataset import data\n",
        "import pandas as pd\n",
        "import numpy as np\n",
        "import matplotlib.pyplot as plt\n",
        "import seaborn as sb\n",
        "import seaborn as sns; sns.set(font_scale=1.2)\n",
        "palette = ['blue','pink']\n",
        "sns.set_palette(palette)\n",
        "import seaborn as sns; sns.set(font_scale=1.2)\n",
        "from sklearn.svm import SVC\n",
        "from sklearn.ensemble import AdaBoostClassifier\n",
        "import warnings\n",
        "warnings.filterwarnings(\"ignore\")\n",
        "from sklearn.decomposition import PCA\n",
        "from sklearn.model_selection import train_test_split\n",
        "from sklearn.neighbors import KNeighborsClassifier\n",
        "from sklearn.metrics import mean_squared_error\n",
        "from sklearn.metrics import accuracy_score\n",
        "from sklearn.metrics import classification_report, confusion_matrix\n",
        "from sklearn.model_selection import GridSearchCV\n",
        "from sklearn import metrics\n",
        "from sklearn.preprocessing import StandardScaler"
      ],
      "metadata": {
        "id": "8yNAjBwM2Ot0"
      },
      "execution_count": 144,
      "outputs": []
    },
    {
      "cell_type": "code",
      "metadata": {
        "id": "XJn2KjW-WMlG",
        "colab": {
          "base_uri": "https://localhost:8080/",
          "height": 98
        },
        "outputId": "98f43636-5db2-4cb6-9f0a-601875b28b58"
      },
      "source": [
        "# Loading the Data from the source i.e. csv\n",
        "# ---\n",
        "# Dataset source = Dataset source = https://archive.org/download/train5_202002/train%20%285%29.csv\n",
        "# ---\n",
        "#\n",
        "df=pd.read_csv(\"/content/train.csv\")\n",
        "df.head(1)\n"
      ],
      "execution_count": 49,
      "outputs": [
        {
          "output_type": "execute_result",
          "data": {
            "text/html": [
              "<div>\n",
              "<style scoped>\n",
              "    .dataframe tbody tr th:only-of-type {\n",
              "        vertical-align: middle;\n",
              "    }\n",
              "\n",
              "    .dataframe tbody tr th {\n",
              "        vertical-align: top;\n",
              "    }\n",
              "\n",
              "    .dataframe thead th {\n",
              "        text-align: right;\n",
              "    }\n",
              "</style>\n",
              "<table border=\"1\" class=\"dataframe\">\n",
              "  <thead>\n",
              "    <tr style=\"text-align: right;\">\n",
              "      <th></th>\n",
              "      <th>PassengerId</th>\n",
              "      <th>Survived</th>\n",
              "      <th>Pclass</th>\n",
              "      <th>Name</th>\n",
              "      <th>Sex</th>\n",
              "      <th>Age</th>\n",
              "      <th>SibSp</th>\n",
              "      <th>Parch</th>\n",
              "      <th>Ticket</th>\n",
              "      <th>Fare</th>\n",
              "      <th>Cabin</th>\n",
              "      <th>Embarked</th>\n",
              "    </tr>\n",
              "  </thead>\n",
              "  <tbody>\n",
              "    <tr>\n",
              "      <th>0</th>\n",
              "      <td>1</td>\n",
              "      <td>0</td>\n",
              "      <td>3</td>\n",
              "      <td>Braund, Mr. Owen Harris</td>\n",
              "      <td>male</td>\n",
              "      <td>22.0</td>\n",
              "      <td>1</td>\n",
              "      <td>0</td>\n",
              "      <td>A/5 21171</td>\n",
              "      <td>7.25</td>\n",
              "      <td>NaN</td>\n",
              "      <td>S</td>\n",
              "    </tr>\n",
              "  </tbody>\n",
              "</table>\n",
              "</div>"
            ],
            "text/plain": [
              "   PassengerId  Survived  Pclass  ...  Fare Cabin  Embarked\n",
              "0            1         0       3  ...  7.25   NaN         S\n",
              "\n",
              "[1 rows x 12 columns]"
            ]
          },
          "metadata": {},
          "execution_count": 49
        }
      ]
    },
    {
      "cell_type": "code",
      "source": [
        "# Loading the Data from the source i.e. csv\n",
        "# ---\n",
        "# Dataset source = Dataset source = https://archive.org/download/test1_202002/test%20%281%29.csv\n",
        "# ---\n",
        "df2=pd.read_csv(\"/content/test.csv\")\n",
        "df2.head(1)"
      ],
      "metadata": {
        "colab": {
          "base_uri": "https://localhost:8080/",
          "height": 81
        },
        "id": "IRde8e5J2goy",
        "outputId": "5fa75e7d-6d49-4906-9e40-866ca5a5eb28"
      },
      "execution_count": 50,
      "outputs": [
        {
          "output_type": "execute_result",
          "data": {
            "text/html": [
              "<div>\n",
              "<style scoped>\n",
              "    .dataframe tbody tr th:only-of-type {\n",
              "        vertical-align: middle;\n",
              "    }\n",
              "\n",
              "    .dataframe tbody tr th {\n",
              "        vertical-align: top;\n",
              "    }\n",
              "\n",
              "    .dataframe thead th {\n",
              "        text-align: right;\n",
              "    }\n",
              "</style>\n",
              "<table border=\"1\" class=\"dataframe\">\n",
              "  <thead>\n",
              "    <tr style=\"text-align: right;\">\n",
              "      <th></th>\n",
              "      <th>PassengerId</th>\n",
              "      <th>Pclass</th>\n",
              "      <th>Name</th>\n",
              "      <th>Sex</th>\n",
              "      <th>Age</th>\n",
              "      <th>SibSp</th>\n",
              "      <th>Parch</th>\n",
              "      <th>Ticket</th>\n",
              "      <th>Fare</th>\n",
              "      <th>Cabin</th>\n",
              "      <th>Embarked</th>\n",
              "    </tr>\n",
              "  </thead>\n",
              "  <tbody>\n",
              "    <tr>\n",
              "      <th>0</th>\n",
              "      <td>892</td>\n",
              "      <td>3</td>\n",
              "      <td>Kelly, Mr. James</td>\n",
              "      <td>male</td>\n",
              "      <td>34.5</td>\n",
              "      <td>0</td>\n",
              "      <td>0</td>\n",
              "      <td>330911</td>\n",
              "      <td>7.8292</td>\n",
              "      <td>NaN</td>\n",
              "      <td>Q</td>\n",
              "    </tr>\n",
              "  </tbody>\n",
              "</table>\n",
              "</div>"
            ],
            "text/plain": [
              "   PassengerId  Pclass              Name   Sex  ...  Ticket    Fare  Cabin Embarked\n",
              "0          892       3  Kelly, Mr. James  male  ...  330911  7.8292    NaN        Q\n",
              "\n",
              "[1 rows x 11 columns]"
            ]
          },
          "metadata": {},
          "execution_count": 50
        }
      ]
    },
    {
      "cell_type": "markdown",
      "source": [
        "We shall use the train dataset since it has our target variable (Survived) since it tells us whether  a passanger survived the titanic or not"
      ],
      "metadata": {
        "id": "Sq16N4VF3oS0"
      }
    },
    {
      "cell_type": "markdown",
      "metadata": {
        "id": "OI3P3YnHUEBk"
      },
      "source": [
        "\n",
        "\n",
        "## 3. Checking the Data"
      ]
    },
    {
      "cell_type": "code",
      "metadata": {
        "id": "YjSVNwgptHxY",
        "colab": {
          "base_uri": "https://localhost:8080/"
        },
        "outputId": "10796736-d4ce-4fab-da7b-a08bb84928e5"
      },
      "source": [
        "# Determining the no. of records in our dataset\n",
        "#\n",
        "df.shape"
      ],
      "execution_count": 51,
      "outputs": [
        {
          "output_type": "execute_result",
          "data": {
            "text/plain": [
              "(891, 12)"
            ]
          },
          "metadata": {},
          "execution_count": 51
        }
      ]
    },
    {
      "cell_type": "markdown",
      "source": [
        "The dataset has 891 columns and 12 rows"
      ],
      "metadata": {
        "id": "orbyIzoxdsXN"
      }
    },
    {
      "cell_type": "code",
      "metadata": {
        "id": "xHhTw5eKWr0n",
        "colab": {
          "base_uri": "https://localhost:8080/",
          "height": 345
        },
        "outputId": "829e2294-82dd-40a7-9586-f45c210823ff"
      },
      "source": [
        "# Previewing the top of our dataset\n",
        "#\n",
        "df.head(5)"
      ],
      "execution_count": 52,
      "outputs": [
        {
          "output_type": "execute_result",
          "data": {
            "text/html": [
              "<div>\n",
              "<style scoped>\n",
              "    .dataframe tbody tr th:only-of-type {\n",
              "        vertical-align: middle;\n",
              "    }\n",
              "\n",
              "    .dataframe tbody tr th {\n",
              "        vertical-align: top;\n",
              "    }\n",
              "\n",
              "    .dataframe thead th {\n",
              "        text-align: right;\n",
              "    }\n",
              "</style>\n",
              "<table border=\"1\" class=\"dataframe\">\n",
              "  <thead>\n",
              "    <tr style=\"text-align: right;\">\n",
              "      <th></th>\n",
              "      <th>PassengerId</th>\n",
              "      <th>Survived</th>\n",
              "      <th>Pclass</th>\n",
              "      <th>Name</th>\n",
              "      <th>Sex</th>\n",
              "      <th>Age</th>\n",
              "      <th>SibSp</th>\n",
              "      <th>Parch</th>\n",
              "      <th>Ticket</th>\n",
              "      <th>Fare</th>\n",
              "      <th>Cabin</th>\n",
              "      <th>Embarked</th>\n",
              "    </tr>\n",
              "  </thead>\n",
              "  <tbody>\n",
              "    <tr>\n",
              "      <th>0</th>\n",
              "      <td>1</td>\n",
              "      <td>0</td>\n",
              "      <td>3</td>\n",
              "      <td>Braund, Mr. Owen Harris</td>\n",
              "      <td>male</td>\n",
              "      <td>22.0</td>\n",
              "      <td>1</td>\n",
              "      <td>0</td>\n",
              "      <td>A/5 21171</td>\n",
              "      <td>7.2500</td>\n",
              "      <td>NaN</td>\n",
              "      <td>S</td>\n",
              "    </tr>\n",
              "    <tr>\n",
              "      <th>1</th>\n",
              "      <td>2</td>\n",
              "      <td>1</td>\n",
              "      <td>1</td>\n",
              "      <td>Cumings, Mrs. John Bradley (Florence Briggs Th...</td>\n",
              "      <td>female</td>\n",
              "      <td>38.0</td>\n",
              "      <td>1</td>\n",
              "      <td>0</td>\n",
              "      <td>PC 17599</td>\n",
              "      <td>71.2833</td>\n",
              "      <td>C85</td>\n",
              "      <td>C</td>\n",
              "    </tr>\n",
              "    <tr>\n",
              "      <th>2</th>\n",
              "      <td>3</td>\n",
              "      <td>1</td>\n",
              "      <td>3</td>\n",
              "      <td>Heikkinen, Miss. Laina</td>\n",
              "      <td>female</td>\n",
              "      <td>26.0</td>\n",
              "      <td>0</td>\n",
              "      <td>0</td>\n",
              "      <td>STON/O2. 3101282</td>\n",
              "      <td>7.9250</td>\n",
              "      <td>NaN</td>\n",
              "      <td>S</td>\n",
              "    </tr>\n",
              "    <tr>\n",
              "      <th>3</th>\n",
              "      <td>4</td>\n",
              "      <td>1</td>\n",
              "      <td>1</td>\n",
              "      <td>Futrelle, Mrs. Jacques Heath (Lily May Peel)</td>\n",
              "      <td>female</td>\n",
              "      <td>35.0</td>\n",
              "      <td>1</td>\n",
              "      <td>0</td>\n",
              "      <td>113803</td>\n",
              "      <td>53.1000</td>\n",
              "      <td>C123</td>\n",
              "      <td>S</td>\n",
              "    </tr>\n",
              "    <tr>\n",
              "      <th>4</th>\n",
              "      <td>5</td>\n",
              "      <td>0</td>\n",
              "      <td>3</td>\n",
              "      <td>Allen, Mr. William Henry</td>\n",
              "      <td>male</td>\n",
              "      <td>35.0</td>\n",
              "      <td>0</td>\n",
              "      <td>0</td>\n",
              "      <td>373450</td>\n",
              "      <td>8.0500</td>\n",
              "      <td>NaN</td>\n",
              "      <td>S</td>\n",
              "    </tr>\n",
              "  </tbody>\n",
              "</table>\n",
              "</div>"
            ],
            "text/plain": [
              "   PassengerId  Survived  Pclass  ...     Fare Cabin  Embarked\n",
              "0            1         0       3  ...   7.2500   NaN         S\n",
              "1            2         1       1  ...  71.2833   C85         C\n",
              "2            3         1       3  ...   7.9250   NaN         S\n",
              "3            4         1       1  ...  53.1000  C123         S\n",
              "4            5         0       3  ...   8.0500   NaN         S\n",
              "\n",
              "[5 rows x 12 columns]"
            ]
          },
          "metadata": {},
          "execution_count": 52
        }
      ]
    },
    {
      "cell_type": "code",
      "metadata": {
        "id": "e9AzGcZFrIIr",
        "colab": {
          "base_uri": "https://localhost:8080/",
          "height": 293
        },
        "outputId": "ccd16cca-3248-4f5b-fd77-4bcf80e52f7c"
      },
      "source": [
        "# Previewing the bottom of our dataset\n",
        "# \n",
        "df.tail(5)"
      ],
      "execution_count": 53,
      "outputs": [
        {
          "output_type": "execute_result",
          "data": {
            "text/html": [
              "<div>\n",
              "<style scoped>\n",
              "    .dataframe tbody tr th:only-of-type {\n",
              "        vertical-align: middle;\n",
              "    }\n",
              "\n",
              "    .dataframe tbody tr th {\n",
              "        vertical-align: top;\n",
              "    }\n",
              "\n",
              "    .dataframe thead th {\n",
              "        text-align: right;\n",
              "    }\n",
              "</style>\n",
              "<table border=\"1\" class=\"dataframe\">\n",
              "  <thead>\n",
              "    <tr style=\"text-align: right;\">\n",
              "      <th></th>\n",
              "      <th>PassengerId</th>\n",
              "      <th>Survived</th>\n",
              "      <th>Pclass</th>\n",
              "      <th>Name</th>\n",
              "      <th>Sex</th>\n",
              "      <th>Age</th>\n",
              "      <th>SibSp</th>\n",
              "      <th>Parch</th>\n",
              "      <th>Ticket</th>\n",
              "      <th>Fare</th>\n",
              "      <th>Cabin</th>\n",
              "      <th>Embarked</th>\n",
              "    </tr>\n",
              "  </thead>\n",
              "  <tbody>\n",
              "    <tr>\n",
              "      <th>886</th>\n",
              "      <td>887</td>\n",
              "      <td>0</td>\n",
              "      <td>2</td>\n",
              "      <td>Montvila, Rev. Juozas</td>\n",
              "      <td>male</td>\n",
              "      <td>27.0</td>\n",
              "      <td>0</td>\n",
              "      <td>0</td>\n",
              "      <td>211536</td>\n",
              "      <td>13.00</td>\n",
              "      <td>NaN</td>\n",
              "      <td>S</td>\n",
              "    </tr>\n",
              "    <tr>\n",
              "      <th>887</th>\n",
              "      <td>888</td>\n",
              "      <td>1</td>\n",
              "      <td>1</td>\n",
              "      <td>Graham, Miss. Margaret Edith</td>\n",
              "      <td>female</td>\n",
              "      <td>19.0</td>\n",
              "      <td>0</td>\n",
              "      <td>0</td>\n",
              "      <td>112053</td>\n",
              "      <td>30.00</td>\n",
              "      <td>B42</td>\n",
              "      <td>S</td>\n",
              "    </tr>\n",
              "    <tr>\n",
              "      <th>888</th>\n",
              "      <td>889</td>\n",
              "      <td>0</td>\n",
              "      <td>3</td>\n",
              "      <td>Johnston, Miss. Catherine Helen \"Carrie\"</td>\n",
              "      <td>female</td>\n",
              "      <td>NaN</td>\n",
              "      <td>1</td>\n",
              "      <td>2</td>\n",
              "      <td>W./C. 6607</td>\n",
              "      <td>23.45</td>\n",
              "      <td>NaN</td>\n",
              "      <td>S</td>\n",
              "    </tr>\n",
              "    <tr>\n",
              "      <th>889</th>\n",
              "      <td>890</td>\n",
              "      <td>1</td>\n",
              "      <td>1</td>\n",
              "      <td>Behr, Mr. Karl Howell</td>\n",
              "      <td>male</td>\n",
              "      <td>26.0</td>\n",
              "      <td>0</td>\n",
              "      <td>0</td>\n",
              "      <td>111369</td>\n",
              "      <td>30.00</td>\n",
              "      <td>C148</td>\n",
              "      <td>C</td>\n",
              "    </tr>\n",
              "    <tr>\n",
              "      <th>890</th>\n",
              "      <td>891</td>\n",
              "      <td>0</td>\n",
              "      <td>3</td>\n",
              "      <td>Dooley, Mr. Patrick</td>\n",
              "      <td>male</td>\n",
              "      <td>32.0</td>\n",
              "      <td>0</td>\n",
              "      <td>0</td>\n",
              "      <td>370376</td>\n",
              "      <td>7.75</td>\n",
              "      <td>NaN</td>\n",
              "      <td>Q</td>\n",
              "    </tr>\n",
              "  </tbody>\n",
              "</table>\n",
              "</div>"
            ],
            "text/plain": [
              "     PassengerId  Survived  Pclass  ...   Fare Cabin  Embarked\n",
              "886          887         0       2  ...  13.00   NaN         S\n",
              "887          888         1       1  ...  30.00   B42         S\n",
              "888          889         0       3  ...  23.45   NaN         S\n",
              "889          890         1       1  ...  30.00  C148         C\n",
              "890          891         0       3  ...   7.75   NaN         Q\n",
              "\n",
              "[5 rows x 12 columns]"
            ]
          },
          "metadata": {},
          "execution_count": 53
        }
      ]
    },
    {
      "cell_type": "code",
      "source": [
        "# Previewing the column names\n",
        "# \n",
        "df.columns"
      ],
      "metadata": {
        "colab": {
          "base_uri": "https://localhost:8080/"
        },
        "id": "KC--0pPC__yO",
        "outputId": "fdfb318a-dc94-4001-e08f-e087a4b07ff2"
      },
      "execution_count": 54,
      "outputs": [
        {
          "output_type": "execute_result",
          "data": {
            "text/plain": [
              "Index(['PassengerId', 'Survived', 'Pclass', 'Name', 'Sex', 'Age', 'SibSp',\n",
              "       'Parch', 'Ticket', 'Fare', 'Cabin', 'Embarked'],\n",
              "      dtype='object')"
            ]
          },
          "metadata": {},
          "execution_count": 54
        }
      ]
    },
    {
      "cell_type": "code",
      "metadata": {
        "id": "n8-dW4sQWzbc",
        "colab": {
          "base_uri": "https://localhost:8080/"
        },
        "outputId": "9a277253-4d23-4193-a39d-35cd215e0473"
      },
      "source": [
        "# Checking whether each column has an appropriate datatype\n",
        "#\n",
        "df.dtypes"
      ],
      "execution_count": 55,
      "outputs": [
        {
          "output_type": "execute_result",
          "data": {
            "text/plain": [
              "PassengerId      int64\n",
              "Survived         int64\n",
              "Pclass           int64\n",
              "Name            object\n",
              "Sex             object\n",
              "Age            float64\n",
              "SibSp            int64\n",
              "Parch            int64\n",
              "Ticket          object\n",
              "Fare           float64\n",
              "Cabin           object\n",
              "Embarked        object\n",
              "dtype: object"
            ]
          },
          "metadata": {},
          "execution_count": 55
        }
      ]
    },
    {
      "cell_type": "code",
      "source": [
        "# Checking the number of unique classes in each column\n",
        "# This helps in knowing whether a column is categorical, numerical or is an object\n",
        "df.nunique()"
      ],
      "metadata": {
        "colab": {
          "base_uri": "https://localhost:8080/"
        },
        "id": "Xu8P6Ujva-68",
        "outputId": "f93aa3a3-7216-4fcb-dd5c-b189efdef163"
      },
      "execution_count": 56,
      "outputs": [
        {
          "output_type": "execute_result",
          "data": {
            "text/plain": [
              "PassengerId    891\n",
              "Survived         2\n",
              "Pclass           3\n",
              "Name           891\n",
              "Sex              2\n",
              "Age             88\n",
              "SibSp            7\n",
              "Parch            7\n",
              "Ticket         681\n",
              "Fare           248\n",
              "Cabin          147\n",
              "Embarked         3\n",
              "dtype: int64"
            ]
          },
          "metadata": {},
          "execution_count": 56
        }
      ]
    },
    {
      "cell_type": "code",
      "source": [
        "# Checking our target variable\n",
        "# Since we are building a model to predict survival of passangers from the Titanic, \n",
        "# our target is going to be \"Survived\" variable from the titanic dataframe. \n",
        "# To make sure that it's a binary variable, we shall use Seaborn's countplot() function.\n",
        "# \n",
        "plt.figure(figsize=(10,8))\n",
        "sb.countplot(x='Survived',data=df, palette='hls')\n",
        "plt.title(\"Classes in the target(survival) variable\")"
      ],
      "metadata": {
        "colab": {
          "base_uri": "https://localhost:8080/",
          "height": 541
        },
        "id": "od0JWyIKZ7Vx",
        "outputId": "7952f04e-8e08-4fc9-9027-8495eff4080d"
      },
      "execution_count": 57,
      "outputs": [
        {
          "output_type": "execute_result",
          "data": {
            "text/plain": [
              "Text(0.5, 1.0, 'Classes in the target(survival) variable')"
            ]
          },
          "metadata": {},
          "execution_count": 57
        },
        {
          "output_type": "display_data",
          "data": {
            "image/png": "[encoded data removed]",
            "text/plain": [
              "<Figure size 720x576 with 1 Axes>"
            ]
          },
          "metadata": {}
        }
      ]
    },
    {
      "cell_type": "markdown",
      "source": [
        "From the output we see that the Survived variable is binary (0 - did not survive / 1 - survived)"
      ],
      "metadata": {
        "id": "o9in0Zrvbcdl"
      }
    },
    {
      "cell_type": "markdown",
      "metadata": {
        "id": "ckfufNrcUHeH"
      },
      "source": [
        "## 4. External Data Source Validation"
      ]
    },
    {
      "cell_type": "markdown",
      "metadata": {
        "id": "6L4sl_0WXlbg"
      },
      "source": [
        "Making sure your data matches something outside of the dataset is very important. It allows you to ensure that the measurements are roughly in line with what they should be and it serves as a check on what other things might be wrong in your dataset. External validation can often be as simple as checking your data against a single number, as we will do here.\n",
        "\n",
        "An example would be suppose that you're working with a dataset on the population of countries during the year 2016. Validating such information with an external reliable resource such as World Bank Data would be important step to providing credibility to your dataset. Have a look at the following link for an example. [Link](https://rstudio-pubs-static.s3.amazonaws.com/182250_19977d0c5c06403fbad1e653850fc7c6.html)."
      ]
    },
    {
      "cell_type": "markdown",
      "metadata": {
        "id": "6XC_g-zKxe-r"
      },
      "source": [
        "### a.Validation"
      ]
    },
    {
      "cell_type": "markdown",
      "metadata": {
        "id": "FlBMxEDBUc9B"
      },
      "source": [
        "## 5. Tidying the Dataset"
      ]
    },
    {
      "cell_type": "code",
      "metadata": {
        "id": "5o_bQcT5W3Wz",
        "colab": {
          "base_uri": "https://localhost:8080/",
          "height": 0
        },
        "outputId": "b6dc8e1d-0e7a-4bce-9d85-32fce90830cd"
      },
      "source": [
        "# Checking for Outliers\n",
        "#Checking outliers in the age and fare columns\n",
        "fig, axes = plt.subplots(1,2, figsize=(15, 8))\n",
        "fig.suptitle('Boxplots')\n",
        "sns.boxplot(df['Age'], ax=axes[0])\n",
        "sns.boxplot(df['Fare'], ax=axes[1])\n",
        "plt.show()"
      ],
      "execution_count": 58,
      "outputs": [
        {
          "output_type": "display_data",
          "data": {
            "image/png": "[encoded data removed]",
            "text/plain": [
              "<Figure size 1080x576 with 2 Axes>"
            ]
          },
          "metadata": {}
        }
      ]
    },
    {
      "cell_type": "code",
      "metadata": {
        "id": "PvCYb6dgW4yh",
        "colab": {
          "base_uri": "https://localhost:8080/"
        },
        "outputId": "48910283-02ca-4ca0-ddb7-00d6a84c84db"
      },
      "source": [
        "# Identifying the Missing Data\n",
        "#\n",
        "df.isnull().sum()"
      ],
      "execution_count": 59,
      "outputs": [
        {
          "output_type": "execute_result",
          "data": {
            "text/plain": [
              "PassengerId      0\n",
              "Survived         0\n",
              "Pclass           0\n",
              "Name             0\n",
              "Sex              0\n",
              "Age            177\n",
              "SibSp            0\n",
              "Parch            0\n",
              "Ticket           0\n",
              "Fare             0\n",
              "Cabin          687\n",
              "Embarked         2\n",
              "dtype: int64"
            ]
          },
          "metadata": {},
          "execution_count": 59
        }
      ]
    },
    {
      "cell_type": "code",
      "source": [
        "#Lets vizualize the missing values\n",
        "plt.figure(figsize=(10,8))\n",
        "df.isnull().sum().plot(kind=\"bar\")\n",
        "plt.title(\"Missing Values\",weight=\"bold\")"
      ],
      "metadata": {
        "colab": {
          "base_uri": "https://localhost:8080/",
          "height": 0
        },
        "id": "SwAu8-w0gXlo",
        "outputId": "01b95412-3296-4e76-a510-d48890848841"
      },
      "execution_count": 60,
      "outputs": [
        {
          "output_type": "execute_result",
          "data": {
            "text/plain": [
              "Text(0.5, 1.0, 'Missing Values')"
            ]
          },
          "metadata": {},
          "execution_count": 60
        },
        {
          "output_type": "display_data",
          "data": {
            "image/png": "[encoded data removed]",
            "text/plain": [
              "<Figure size 720x576 with 1 Axes>"
            ]
          },
          "metadata": {}
        }
      ]
    },
    {
      "cell_type": "code",
      "metadata": {
        "id": "MpsDGKZHsf_W",
        "colab": {
          "base_uri": "https://localhost:8080/",
          "height": 0
        },
        "outputId": "0afd9bb7-7caa-4b1c-f3cf-a3b4370a9069"
      },
      "source": [
        "# Dealing with the Missing Data\n",
        "#We shall look at how passenger age is related to their passanger class on the boat.\n",
        "# \n",
        "plt.figure(figsize=(10,8))\n",
        "sb.boxplot(x='Pclass', y='Age', data=df, palette='hls')\n",
        "plt.title(\"Age vs passenger Classes \")"
      ],
      "execution_count": 61,
      "outputs": [
        {
          "output_type": "execute_result",
          "data": {
            "text/plain": [
              "Text(0.5, 1.0, 'Age vs passenger Classes ')"
            ]
          },
          "metadata": {},
          "execution_count": 61
        },
        {
          "output_type": "display_data",
          "data": {
            "image/png": "[encoded data removed]",
            "text/plain": [
              "<Figure size 720x576 with 1 Axes>"
            ]
          },
          "metadata": {}
        }
      ]
    },
    {
      "cell_type": "markdown",
      "source": [
        "From the box plot, it looks like the average age of 1st class passengers is about 37, 2nd class passengers is 29, and 3rd class pasengers is 24.\n",
        "\n",
        "The younger passengers are more likely to be in 3rd class and the older passengers are more likely to be 1st class.\n",
        "\n",
        "We shall fill the null values using the average ages in the different classes."
      ],
      "metadata": {
        "id": "gIJoOkXJm9Rr"
      }
    },
    {
      "cell_type": "code",
      "source": [
        "#Dealing with null values\n",
        "# we shall checks the value of the Pclass and assigns an average age value  of passengers in that class.\n",
        "#\n",
        "def age_approx(cols):\n",
        "    Age = cols[0]\n",
        "    Pclass = cols[1]\n",
        "    \n",
        "    if pd.isnull(Age):\n",
        "        if Pclass == 1:\n",
        "            return 37\n",
        "        elif Pclass == 2:\n",
        "            return 29\n",
        "        else:\n",
        "            return 24\n",
        "    else:\n",
        "        return Age"
      ],
      "metadata": {
        "id": "dS_mz_6qolTM"
      },
      "execution_count": 62,
      "outputs": []
    },
    {
      "cell_type": "code",
      "source": [
        "#we shall apply the  function and check again for null value.\n",
        "#\n",
        "df['Age'] = df[['Age', 'Pclass']].apply(age_approx, axis=1)\n",
        "df.isnull().sum()"
      ],
      "metadata": {
        "colab": {
          "base_uri": "https://localhost:8080/"
        },
        "id": "fZ70aXj8plQs",
        "outputId": "4e12f527-43a3-4096-c4e9-22f85b602b0b"
      },
      "execution_count": 63,
      "outputs": [
        {
          "output_type": "execute_result",
          "data": {
            "text/plain": [
              "PassengerId      0\n",
              "Survived         0\n",
              "Pclass           0\n",
              "Name             0\n",
              "Sex              0\n",
              "Age              0\n",
              "SibSp            0\n",
              "Parch            0\n",
              "Ticket           0\n",
              "Fare             0\n",
              "Cabin          687\n",
              "Embarked         2\n",
              "dtype: int64"
            ]
          },
          "metadata": {},
          "execution_count": 63
        }
      ]
    },
    {
      "cell_type": "code",
      "source": [
        "#Dealing with null values in the Embarked column\n",
        " #We shall use mode to fill the null values\n",
        "df['Embarked'].fillna(df['Embarked'].mode()[0],inplace=True)"
      ],
      "metadata": {
        "id": "tCwAmJqIumYK"
      },
      "execution_count": 64,
      "outputs": []
    },
    {
      "cell_type": "code",
      "source": [
        "#Cabin is a private room on a ship or boat\n",
        "#We shall create a new colum that show whether a passanger was in the cabinor not \n",
        "#The replace the null values with 0 and 1 for the rows that are not null. \n",
        "df['cabin'] = [0 if str(x) == 'nan' else 1 for x in df['Cabin']]\n",
        "\n",
        "#Then drop the former Cabin column and remail with cabin\n",
        "df.drop('Cabin', axis=1, inplace=True)"
      ],
      "metadata": {
        "id": "pgIclZ4BxtYz"
      },
      "execution_count": 65,
      "outputs": []
    },
    {
      "cell_type": "code",
      "source": [
        "#cross checking the null values again\n",
        "df.isnull().sum().sum()"
      ],
      "metadata": {
        "colab": {
          "base_uri": "https://localhost:8080/"
        },
        "id": "6Rc9HUZ6y_zG",
        "outputId": "14390a25-4f43-416a-bbcd-0261afe140d0"
      },
      "execution_count": 66,
      "outputs": [
        {
          "output_type": "execute_result",
          "data": {
            "text/plain": [
              "0"
            ]
          },
          "metadata": {},
          "execution_count": 66
        }
      ]
    },
    {
      "cell_type": "code",
      "metadata": {
        "id": "oA0DcqdUQNeP",
        "colab": {
          "base_uri": "https://localhost:8080/",
          "height": 0
        },
        "outputId": "047973bf-997f-4974-eb5c-752a07c9ec47"
      },
      "source": [
        "# We shall  drop all the variables that aren't relevant for our analysis and  predicting survival. \n",
        "#We should  keep the following:\n",
        "\n",
        "# Survived - This variable is our target variable\n",
        "# Pclass - Does a passenger's class on the boat affect their survivability?\n",
        "# Sex - Could a passenger's gender impact their survival rate?\n",
        "# Age - Does a person's age impact their survival rate?\n",
        "# SibSp - Does the number of relatives on the boat (that are siblings or a spouse) affect a person survivability? Probability\n",
        "# Parch - Does the number of relatives on the boat (that are children or parents) affect a person survivability? Probability\n",
        "# Fare - Does the fare a person paid effect his survivability? Maybe - let's keep it.\n",
        "#cabin- was the passanger in the cabin or not?\n",
        "# Embarked - Does a person's point of embarkation matter? It depends on how the boat was filled... Let's keep it.\n",
        "#name, ticket number, and passenger ID number? They're irrelavant for predicting survivability. \n",
        "\n",
        "df = df.drop(['PassengerId','Name','Ticket'], 1)\n",
        "df.head()\n"
      ],
      "execution_count": 67,
      "outputs": [
        {
          "output_type": "execute_result",
          "data": {
            "text/html": [
              "<div>\n",
              "<style scoped>\n",
              "    .dataframe tbody tr th:only-of-type {\n",
              "        vertical-align: middle;\n",
              "    }\n",
              "\n",
              "    .dataframe tbody tr th {\n",
              "        vertical-align: top;\n",
              "    }\n",
              "\n",
              "    .dataframe thead th {\n",
              "        text-align: right;\n",
              "    }\n",
              "</style>\n",
              "<table border=\"1\" class=\"dataframe\">\n",
              "  <thead>\n",
              "    <tr style=\"text-align: right;\">\n",
              "      <th></th>\n",
              "      <th>Survived</th>\n",
              "      <th>Pclass</th>\n",
              "      <th>Sex</th>\n",
              "      <th>Age</th>\n",
              "      <th>SibSp</th>\n",
              "      <th>Parch</th>\n",
              "      <th>Fare</th>\n",
              "      <th>Embarked</th>\n",
              "      <th>cabin</th>\n",
              "    </tr>\n",
              "  </thead>\n",
              "  <tbody>\n",
              "    <tr>\n",
              "      <th>0</th>\n",
              "      <td>0</td>\n",
              "      <td>3</td>\n",
              "      <td>male</td>\n",
              "      <td>22.0</td>\n",
              "      <td>1</td>\n",
              "      <td>0</td>\n",
              "      <td>7.2500</td>\n",
              "      <td>S</td>\n",
              "      <td>0</td>\n",
              "    </tr>\n",
              "    <tr>\n",
              "      <th>1</th>\n",
              "      <td>1</td>\n",
              "      <td>1</td>\n",
              "      <td>female</td>\n",
              "      <td>38.0</td>\n",
              "      <td>1</td>\n",
              "      <td>0</td>\n",
              "      <td>71.2833</td>\n",
              "      <td>C</td>\n",
              "      <td>1</td>\n",
              "    </tr>\n",
              "    <tr>\n",
              "      <th>2</th>\n",
              "      <td>1</td>\n",
              "      <td>3</td>\n",
              "      <td>female</td>\n",
              "      <td>26.0</td>\n",
              "      <td>0</td>\n",
              "      <td>0</td>\n",
              "      <td>7.9250</td>\n",
              "      <td>S</td>\n",
              "      <td>0</td>\n",
              "    </tr>\n",
              "    <tr>\n",
              "      <th>3</th>\n",
              "      <td>1</td>\n",
              "      <td>1</td>\n",
              "      <td>female</td>\n",
              "      <td>35.0</td>\n",
              "      <td>1</td>\n",
              "      <td>0</td>\n",
              "      <td>53.1000</td>\n",
              "      <td>S</td>\n",
              "      <td>1</td>\n",
              "    </tr>\n",
              "    <tr>\n",
              "      <th>4</th>\n",
              "      <td>0</td>\n",
              "      <td>3</td>\n",
              "      <td>male</td>\n",
              "      <td>35.0</td>\n",
              "      <td>0</td>\n",
              "      <td>0</td>\n",
              "      <td>8.0500</td>\n",
              "      <td>S</td>\n",
              "      <td>0</td>\n",
              "    </tr>\n",
              "  </tbody>\n",
              "</table>\n",
              "</div>"
            ],
            "text/plain": [
              "   Survived  Pclass     Sex   Age  SibSp  Parch     Fare Embarked  cabin\n",
              "0         0       3    male  22.0      1      0   7.2500        S      0\n",
              "1         1       1  female  38.0      1      0  71.2833        C      1\n",
              "2         1       3  female  26.0      0      0   7.9250        S      0\n",
              "3         1       1  female  35.0      1      0  53.1000        S      1\n",
              "4         0       3    male  35.0      0      0   8.0500        S      0"
            ]
          },
          "metadata": {},
          "execution_count": 67
        }
      ]
    },
    {
      "cell_type": "markdown",
      "metadata": {
        "id": "rF2ABPsHUtbZ"
      },
      "source": [
        "## 6. Exploratory Analysis"
      ]
    },
    {
      "cell_type": "markdown",
      "source": [
        "## 6.1 Univariate Analysis"
      ],
      "metadata": {
        "id": "n-WOorEV70k4"
      }
    },
    {
      "cell_type": "code",
      "source": [
        "#Numerical variables\n",
        "#Measures of Central Tendency\n",
        "#we start by picking the numerical variables\n",
        "\n",
        "#Mode\n",
        "numerical_data=df[['Age','SibSp','Parch','Fare']]\n",
        "numerical_data.mode()\n"
      ],
      "metadata": {
        "colab": {
          "base_uri": "https://localhost:8080/",
          "height": 81
        },
        "id": "5HxCtfAi2IBd",
        "outputId": "5f9c595c-e5bd-4c27-bf6a-40cfa813ac74"
      },
      "execution_count": 68,
      "outputs": [
        {
          "output_type": "execute_result",
          "data": {
            "text/html": [
              "<div>\n",
              "<style scoped>\n",
              "    .dataframe tbody tr th:only-of-type {\n",
              "        vertical-align: middle;\n",
              "    }\n",
              "\n",
              "    .dataframe tbody tr th {\n",
              "        vertical-align: top;\n",
              "    }\n",
              "\n",
              "    .dataframe thead th {\n",
              "        text-align: right;\n",
              "    }\n",
              "</style>\n",
              "<table border=\"1\" class=\"dataframe\">\n",
              "  <thead>\n",
              "    <tr style=\"text-align: right;\">\n",
              "      <th></th>\n",
              "      <th>Age</th>\n",
              "      <th>SibSp</th>\n",
              "      <th>Parch</th>\n",
              "      <th>Fare</th>\n",
              "    </tr>\n",
              "  </thead>\n",
              "  <tbody>\n",
              "    <tr>\n",
              "      <th>0</th>\n",
              "      <td>24.0</td>\n",
              "      <td>0</td>\n",
              "      <td>0</td>\n",
              "      <td>8.05</td>\n",
              "    </tr>\n",
              "  </tbody>\n",
              "</table>\n",
              "</div>"
            ],
            "text/plain": [
              "    Age  SibSp  Parch  Fare\n",
              "0  24.0      0      0  8.05"
            ]
          },
          "metadata": {},
          "execution_count": 68
        }
      ]
    },
    {
      "cell_type": "code",
      "source": [
        "#Mean\n",
        "numerical_data=df[['Age','SibSp','Parch','Fare']]\n",
        "numerical_data.mean()"
      ],
      "metadata": {
        "colab": {
          "base_uri": "https://localhost:8080/"
        },
        "id": "r6iBZgd5-4SW",
        "outputId": "318d827b-1eb6-46d7-c7b1-a4fb4da06291"
      },
      "execution_count": 69,
      "outputs": [
        {
          "output_type": "execute_result",
          "data": {
            "text/plain": [
              "Age      29.066409\n",
              "SibSp     0.523008\n",
              "Parch     0.381594\n",
              "Fare     32.204208\n",
              "dtype: float64"
            ]
          },
          "metadata": {},
          "execution_count": 69
        }
      ]
    },
    {
      "cell_type": "code",
      "source": [
        "#Median\n",
        "numerical_data=df[['Age','SibSp','Parch','Fare']]\n",
        "numerical_data.median()"
      ],
      "metadata": {
        "colab": {
          "base_uri": "https://localhost:8080/"
        },
        "id": "GwCVqfqS9Cai",
        "outputId": "189a6313-10d1-4b63-b40d-44dcbf8709e9"
      },
      "execution_count": 70,
      "outputs": [
        {
          "output_type": "execute_result",
          "data": {
            "text/plain": [
              "Age      26.0000\n",
              "SibSp     0.0000\n",
              "Parch     0.0000\n",
              "Fare     14.4542\n",
              "dtype: float64"
            ]
          },
          "metadata": {},
          "execution_count": 70
        }
      ]
    },
    {
      "cell_type": "code",
      "source": [
        "#Measures of dispersion\n",
        "#standard deviation\n",
        "numerical_data=df[['Age','SibSp','Parch','Fare']]\n",
        "numerical_data.std()"
      ],
      "metadata": {
        "colab": {
          "base_uri": "https://localhost:8080/"
        },
        "id": "ZIcR2wrq_RZK",
        "outputId": "ed1641a9-97cb-4194-d245-70f5cfa16ca3"
      },
      "execution_count": 71,
      "outputs": [
        {
          "output_type": "execute_result",
          "data": {
            "text/plain": [
              "Age      13.244532\n",
              "SibSp     1.102743\n",
              "Parch     0.806057\n",
              "Fare     49.693429\n",
              "dtype: float64"
            ]
          },
          "metadata": {},
          "execution_count": 71
        }
      ]
    },
    {
      "cell_type": "code",
      "source": [
        "#Kurtosis\n",
        "numerical_data=df[['Age','SibSp','Parch','Fare']]\n",
        "numerical_data.kurt()"
      ],
      "metadata": {
        "colab": {
          "base_uri": "https://localhost:8080/"
        },
        "id": "e38riWZ2_ceP",
        "outputId": "b3524037-02fe-4bfa-ce56-a9629b687ea7"
      },
      "execution_count": 72,
      "outputs": [
        {
          "output_type": "execute_result",
          "data": {
            "text/plain": [
              "Age       0.782790\n",
              "SibSp    17.880420\n",
              "Parch     9.778125\n",
              "Fare     33.398141\n",
              "dtype: float64"
            ]
          },
          "metadata": {},
          "execution_count": 72
        }
      ]
    },
    {
      "cell_type": "code",
      "source": [
        "#Skewness\n",
        "numerical_data=df[['Age','SibSp','Parch','Fare']]\n",
        "numerical_data.skew()"
      ],
      "metadata": {
        "colab": {
          "base_uri": "https://localhost:8080/"
        },
        "id": "xLkjtxLtAYJa",
        "outputId": "1dd20798-f924-4535-f7ba-69e4b441aab8"
      },
      "execution_count": 73,
      "outputs": [
        {
          "output_type": "execute_result",
          "data": {
            "text/plain": [
              "Age      0.548256\n",
              "SibSp    3.695352\n",
              "Parch    2.749117\n",
              "Fare     4.787317\n",
              "dtype: float64"
            ]
          },
          "metadata": {},
          "execution_count": 73
        }
      ]
    },
    {
      "cell_type": "code",
      "source": [
        "#variance\n",
        "numerical_data=df[['Age','SibSp','Parch','Fare']]\n",
        "numerical_data.var()"
      ],
      "metadata": {
        "colab": {
          "base_uri": "https://localhost:8080/"
        },
        "id": "yYu7qR3LAeBG",
        "outputId": "3eb9dcdb-c279-4b6f-c608-058a8dc062d6"
      },
      "execution_count": 74,
      "outputs": [
        {
          "output_type": "execute_result",
          "data": {
            "text/plain": [
              "Age       175.417624\n",
              "SibSp       1.216043\n",
              "Parch       0.649728\n",
              "Fare     2469.436846\n",
              "dtype: float64"
            ]
          },
          "metadata": {},
          "execution_count": 74
        }
      ]
    },
    {
      "cell_type": "code",
      "source": [
        "#Quantiles\n",
        "numerical_data=df[['Age','SibSp','Parch','Fare']]\n",
        "numerical_data.quantile([0.25,0.50,0.75])"
      ],
      "metadata": {
        "colab": {
          "base_uri": "https://localhost:8080/",
          "height": 143
        },
        "id": "lezTz6_EAjzM",
        "outputId": "c23e3997-fc51-47f1-ee12-575aa379c987"
      },
      "execution_count": 75,
      "outputs": [
        {
          "output_type": "execute_result",
          "data": {
            "text/html": [
              "<div>\n",
              "<style scoped>\n",
              "    .dataframe tbody tr th:only-of-type {\n",
              "        vertical-align: middle;\n",
              "    }\n",
              "\n",
              "    .dataframe tbody tr th {\n",
              "        vertical-align: top;\n",
              "    }\n",
              "\n",
              "    .dataframe thead th {\n",
              "        text-align: right;\n",
              "    }\n",
              "</style>\n",
              "<table border=\"1\" class=\"dataframe\">\n",
              "  <thead>\n",
              "    <tr style=\"text-align: right;\">\n",
              "      <th></th>\n",
              "      <th>Age</th>\n",
              "      <th>SibSp</th>\n",
              "      <th>Parch</th>\n",
              "      <th>Fare</th>\n",
              "    </tr>\n",
              "  </thead>\n",
              "  <tbody>\n",
              "    <tr>\n",
              "      <th>0.25</th>\n",
              "      <td>22.0</td>\n",
              "      <td>0.0</td>\n",
              "      <td>0.0</td>\n",
              "      <td>7.9104</td>\n",
              "    </tr>\n",
              "    <tr>\n",
              "      <th>0.50</th>\n",
              "      <td>26.0</td>\n",
              "      <td>0.0</td>\n",
              "      <td>0.0</td>\n",
              "      <td>14.4542</td>\n",
              "    </tr>\n",
              "    <tr>\n",
              "      <th>0.75</th>\n",
              "      <td>37.0</td>\n",
              "      <td>1.0</td>\n",
              "      <td>0.0</td>\n",
              "      <td>31.0000</td>\n",
              "    </tr>\n",
              "  </tbody>\n",
              "</table>\n",
              "</div>"
            ],
            "text/plain": [
              "       Age  SibSp  Parch     Fare\n",
              "0.25  22.0    0.0    0.0   7.9104\n",
              "0.50  26.0    0.0    0.0  14.4542\n",
              "0.75  37.0    1.0    0.0  31.0000"
            ]
          },
          "metadata": {},
          "execution_count": 75
        }
      ]
    },
    {
      "cell_type": "code",
      "metadata": {
        "id": "5nnRToniXGDK",
        "colab": {
          "base_uri": "https://localhost:8080/"
        },
        "outputId": "235ccf9e-ea01-4f88-d51a-687ac8b80134"
      },
      "source": [
        "##Categorical data\n",
        "#Frequency table for the categorical data\n",
        "# Frequency Tables for the different categorical variables\n",
        "\n",
        "print(df['Embarked'].value_counts())\n",
        "print('\\n')\n",
        "print(df['Pclass'].value_counts())\n",
        "print('\\n')\n",
        "print(df['Survived'].value_counts())\n",
        "print('\\n')\n",
        "print(df['Sex'].value_counts())\n",
        "print('\\n')\n",
        "print(df['cabin'].value_counts())"
      ],
      "execution_count": 76,
      "outputs": [
        {
          "output_type": "stream",
          "name": "stdout",
          "text": [
            "S    646\n",
            "C    168\n",
            "Q     77\n",
            "Name: Embarked, dtype: int64\n",
            "\n",
            "\n",
            "3    491\n",
            "1    216\n",
            "2    184\n",
            "Name: Pclass, dtype: int64\n",
            "\n",
            "\n",
            "0    549\n",
            "1    342\n",
            "Name: Survived, dtype: int64\n",
            "\n",
            "\n",
            "male      577\n",
            "female    314\n",
            "Name: Sex, dtype: int64\n",
            "\n",
            "\n",
            "0    687\n",
            "1    204\n",
            "Name: cabin, dtype: int64\n"
          ]
        }
      ]
    },
    {
      "cell_type": "code",
      "source": [
        "#plot showing distributions of ages\n",
        "f, ax = plt.subplots(figsize=(10,8))\n",
        "x = df['Age']\n",
        "x = pd.Series(x, name=\"Age variable\")\n",
        "ax = sns.kdeplot(x, shade=True, color='red')\n",
        "ax.set_title(\"Distribution of age variable\",weight='bold')\n",
        "plt.show()"
      ],
      "metadata": {
        "colab": {
          "base_uri": "https://localhost:8080/",
          "height": 523
        },
        "id": "loJL0jyJe6qh",
        "outputId": "4c079887-5089-4c69-b919-602242d657df"
      },
      "execution_count": 142,
      "outputs": [
        {
          "output_type": "display_data",
          "data": {
            "image/png": "[encoded data removed]",
            "text/plain": [
              "<Figure size 720x576 with 1 Axes>"
            ]
          },
          "metadata": {}
        }
      ]
    },
    {
      "cell_type": "markdown",
      "source": [
        "From the categorical data we can make the following observations;\n",
        "\n",
        "*    Majority of the passengers embarked at the Southampton port (646),followed by Cherboug (168) then  Queenstown(77).\n",
        "*  Majorinty of the passangers were in PClass 3 with 491 passangers, class 1 with 216 passangers and class 2 with 184 passangers\n",
        "* Majority of the passengers in our Titanic dataset 577, were male passangers,  while 314 passangers were female.\n",
        "*   Majority of the passengers in our Titanic dataset 549 passangers, survived the crash while 342 passengers did not survive.\n",
        "*  Majority of the passangers were not in the cabin(687 passaners) and 204 passangers were in the cabin."
      ],
      "metadata": {
        "id": "gcnLkvZFECJi"
      }
    },
    {
      "cell_type": "code",
      "source": [
        "#Pie charts\n",
        "# Pie chart of the ports of embarkation\n",
        "df['Embarked'].value_counts().plot(kind='pie',shadow = True,explode=(0,0.1,0), colors=['green',\"blue\",\"yellow\"], autopct='%1.1f%%')\n",
        "fig=plt.gcf()\n",
        "fig.set_size_inches(6,6)\n",
        "plt.legend(loc='upper right')\n",
        "plt.title('Pie Chart of Embarkation Port', y=1.1,weight=\"bold\")\n",
        "plt.show()"
      ],
      "metadata": {
        "colab": {
          "base_uri": "https://localhost:8080/",
          "height": 407
        },
        "id": "njwmrhHnEBD7",
        "outputId": "c1ec9903-a0c2-4fd3-f576-8a3d55a9c742"
      },
      "execution_count": 77,
      "outputs": [
        {
          "output_type": "display_data",
          "data": {
            "image/png": "[encoded data removed]",
            "text/plain": [
              "<Figure size 432x432 with 1 Axes>"
            ]
          },
          "metadata": {}
        }
      ]
    },
    {
      "cell_type": "code",
      "source": [
        "# Pie chart of the gender distribution\n",
        "df['Sex'].value_counts().plot(kind='pie', autopct='%1.1f%%', colors=['brown','pink'])\n",
        "fig=plt.gcf()\n",
        "fig.set_size_inches(6,6)\n",
        "plt.legend(loc='upper right')\n",
        "plt.title('Pie Chart of Gender', y=1, fontweight='bold')\n",
        "plt.show()"
      ],
      "metadata": {
        "colab": {
          "base_uri": "https://localhost:8080/",
          "height": 374
        },
        "id": "fB87IRNYD9TM",
        "outputId": "004a3617-6caf-4cc0-cebf-b8e0235866a7"
      },
      "execution_count": 78,
      "outputs": [
        {
          "output_type": "display_data",
          "data": {
            "image/png": "[encoded data removed]",
            "text/plain": [
              "<Figure size 432x432 with 1 Axes>"
            ]
          },
          "metadata": {}
        }
      ]
    },
    {
      "cell_type": "code",
      "source": [
        "# Pie chart of the gender distribution\n",
        "df['Pclass'].value_counts().plot(kind='pie',shadow = True,explode=(0,0.1,0), colors=['pink',\"blue\",\"yellow\"], autopct='%1.1f%%')\n",
        "fig=plt.gcf()\n",
        "fig.set_size_inches(6,6)\n",
        "plt.legend(loc='upper right')\n",
        "plt.title('Pie Chart of passanger class', y=1.1,weight=\"bold\")\n",
        "plt.show()"
      ],
      "metadata": {
        "colab": {
          "base_uri": "https://localhost:8080/",
          "height": 407
        },
        "id": "1C5P_nj8K_ee",
        "outputId": "0c38176d-4b30-470b-9e06-a08baf083f4c"
      },
      "execution_count": 79,
      "outputs": [
        {
          "output_type": "display_data",
          "data": {
            "image/png": "[encoded data removed]",
            "text/plain": [
              "<Figure size 432x432 with 1 Axes>"
            ]
          },
          "metadata": {}
        }
      ]
    },
    {
      "cell_type": "markdown",
      "source": [
        "## Bivariate Analysis"
      ],
      "metadata": {
        "id": "FOxBlFCJLq9Z"
      }
    },
    {
      "cell_type": "code",
      "source": [
        "#frequecy table for sex vs Survived \n",
        "df[[\"Sex\",\"Survived\"]].value_counts(sort = False)"
      ],
      "metadata": {
        "colab": {
          "base_uri": "https://localhost:8080/"
        },
        "id": "A9QvlLs7gZqW",
        "outputId": "c62e4aa0-10ca-4ad7-998e-f73a464ae674"
      },
      "execution_count": 148,
      "outputs": [
        {
          "output_type": "execute_result",
          "data": {
            "text/plain": [
              "Sex  Survived\n",
              "1    0           468\n",
              "     1           109\n",
              "2    0            81\n",
              "     1           233\n",
              "dtype: int64"
            ]
          },
          "metadata": {},
          "execution_count": 148
        }
      ]
    },
    {
      "cell_type": "code",
      "source": [
        "#Passanger distribution with sex\n",
        "sns.catplot(x='Survived',hue='Sex',data=df,kind='count',aspect=1.5)\n",
        "plt.title('passanger distibution  with sex',weight='bold')"
      ],
      "metadata": {
        "colab": {
          "base_uri": "https://localhost:8080/",
          "height": 395
        },
        "id": "krI1SNSrfqb0",
        "outputId": "36ae0800-20de-40a3-87aa-562e47480381"
      },
      "execution_count": 149,
      "outputs": [
        {
          "output_type": "execute_result",
          "data": {
            "text/plain": [
              "Text(0.5, 1.0, 'passanger distibution  with sex')"
            ]
          },
          "metadata": {},
          "execution_count": 149
        },
        {
          "output_type": "display_data",
          "data": {
            "image/png": "[encoded data removed]",
            "text/plain": [
              "<Figure size 596.02x360 with 1 Axes>"
            ]
          },
          "metadata": {}
        }
      ]
    },
    {
      "cell_type": "code",
      "source": [
        "# Plotting our scatterplot Scatter plot of Fare vs  age\n",
        "\n",
        "nc=df.groupby('Age')['Fare'].sum().reset_index(name='Fare per age')\n",
        "nc\n",
        "plt.scatter(nc[\"Age\"] , nc['Fare per age'], c='g')\n",
        "plt.xlabel(\"age\")\n",
        "plt.ylabel('Fare per age')\n",
        "plt.title(\"Scatter plot of Fare vs  age\", y=1.1)\n",
        "plt.show()"
      ],
      "metadata": {
        "colab": {
          "base_uri": "https://localhost:8080/",
          "height": 328
        },
        "id": "8dI7uHGJXYSW",
        "outputId": "73425ced-ec92-49da-ab1b-0884a868466d"
      },
      "execution_count": 128,
      "outputs": [
        {
          "output_type": "display_data",
          "data": {
            "image/png": "[encoded data removed]",
            "text/plain": [
              "<Figure size 432x288 with 1 Axes>"
            ]
          },
          "metadata": {}
        }
      ]
    },
    {
      "cell_type": "code",
      "source": [
        "#frequecy table for sex cabin vs Survived\n",
        "df[[\"cabin\",\"Survived\"]].value_counts(sort = False)"
      ],
      "metadata": {
        "colab": {
          "base_uri": "https://localhost:8080/"
        },
        "id": "18bpzQdJYdnj",
        "outputId": "49ce155b-3269-4030-e077-9996c141a1d5"
      },
      "execution_count": 134,
      "outputs": [
        {
          "output_type": "execute_result",
          "data": {
            "text/plain": [
              "cabin  Survived\n",
              "0      0           481\n",
              "       1           206\n",
              "1      0            68\n",
              "       1           136\n",
              "dtype: int64"
            ]
          },
          "metadata": {},
          "execution_count": 134
        }
      ]
    },
    {
      "cell_type": "code",
      "source": [
        "#frequecy table for sex cabin vs Survived\n",
        "df[[\"cabin\",\"Pclass\"]].value_counts(sort = False)"
      ],
      "metadata": {
        "colab": {
          "base_uri": "https://localhost:8080/"
        },
        "id": "dl-IMSB1Y7r3",
        "outputId": "7420767e-d054-4be2-f589-52e78cfcd3bb"
      },
      "execution_count": 138,
      "outputs": [
        {
          "output_type": "execute_result",
          "data": {
            "text/plain": [
              "cabin  Pclass\n",
              "0      1          40\n",
              "       2         168\n",
              "       3         479\n",
              "1      1         176\n",
              "       2          16\n",
              "       3          12\n",
              "dtype: int64"
            ]
          },
          "metadata": {},
          "execution_count": 138
        }
      ]
    },
    {
      "cell_type": "code",
      "source": [
        "# Checking for independence between features¶\n",
        "# \n",
        "plt.figure(figsize=(9, 5))\n",
        "sb.heatmap(df.corr(),annot=True) "
      ],
      "metadata": {
        "colab": {
          "base_uri": "https://localhost:8080/",
          "height": 347
        },
        "id": "NK8374D_Low-",
        "outputId": "107c8f5c-d726-4421-899e-e5693cda6b4f"
      },
      "execution_count": 80,
      "outputs": [
        {
          "output_type": "execute_result",
          "data": {
            "text/plain": [
              "<matplotlib.axes._subplots.AxesSubplot at 0x7f371ab99cd0>"
            ]
          },
          "metadata": {},
          "execution_count": 80
        },
        {
          "output_type": "display_data",
          "data": {
            "image/png": "[encoded data removed]",
            "text/plain": [
              "<Figure size 648x360 with 2 Axes>"
            ]
          },
          "metadata": {}
        }
      ]
    },
    {
      "cell_type": "markdown",
      "source": [
        "## Data Preprocessing"
      ],
      "metadata": {
        "id": "JScMU51EORSA"
      }
    },
    {
      "cell_type": "code",
      "source": [
        "#installing category encoder\n",
        "!pip install category_encoders\n",
        "# import category encoders\n",
        "\n",
        "import category_encoders as ce"
      ],
      "metadata": {
        "colab": {
          "base_uri": "https://localhost:8080/"
        },
        "id": "thGgnWVlO25A",
        "outputId": "3fce5169-be04-4bad-d92d-021fa571fee7"
      },
      "execution_count": 47,
      "outputs": [
        {
          "output_type": "stream",
          "name": "stdout",
          "text": [
            "Requirement already satisfied: category_encoders in /usr/local/lib/python3.7/dist-packages (2.3.0)\n",
            "Requirement already satisfied: statsmodels>=0.9.0 in /usr/local/lib/python3.7/dist-packages (from category_encoders) (0.10.2)\n",
            "Requirement already satisfied: scipy>=1.0.0 in /usr/local/lib/python3.7/dist-packages (from category_encoders) (1.4.1)\n",
            "Requirement already satisfied: scikit-learn>=0.20.0 in /usr/local/lib/python3.7/dist-packages (from category_encoders) (1.0.1)\n",
            "Requirement already satisfied: numpy>=1.14.0 in /usr/local/lib/python3.7/dist-packages (from category_encoders) (1.19.5)\n",
            "Requirement already satisfied: patsy>=0.5.1 in /usr/local/lib/python3.7/dist-packages (from category_encoders) (0.5.2)\n",
            "Requirement already satisfied: pandas>=0.21.1 in /usr/local/lib/python3.7/dist-packages (from category_encoders) (1.1.5)\n",
            "Requirement already satisfied: pytz>=2017.2 in /usr/local/lib/python3.7/dist-packages (from pandas>=0.21.1->category_encoders) (2018.9)\n",
            "Requirement already satisfied: python-dateutil>=2.7.3 in /usr/local/lib/python3.7/dist-packages (from pandas>=0.21.1->category_encoders) (2.8.2)\n",
            "Requirement already satisfied: six in /usr/local/lib/python3.7/dist-packages (from patsy>=0.5.1->category_encoders) (1.15.0)\n",
            "Requirement already satisfied: threadpoolctl>=2.0.0 in /usr/local/lib/python3.7/dist-packages (from scikit-learn>=0.20.0->category_encoders) (3.0.0)\n",
            "Requirement already satisfied: joblib>=0.11 in /usr/local/lib/python3.7/dist-packages (from scikit-learn>=0.20.0->category_encoders) (1.1.0)\n"
          ]
        }
      ]
    },
    {
      "cell_type": "code",
      "source": [
        "# encode categorical variables with ordinal encoding\n",
        "\n",
        "encoder = ce.OrdinalEncoder(df.columns)\n",
        "df = encoder.fit_transform(df)\n",
        "df.head(2)"
      ],
      "metadata": {
        "colab": {
          "base_uri": "https://localhost:8080/",
          "height": 112
        },
        "id": "t61aAvjmOmAM",
        "outputId": "17757f9a-7a8e-491b-e816-c653c57c7322"
      },
      "execution_count": 81,
      "outputs": [
        {
          "output_type": "execute_result",
          "data": {
            "text/html": [
              "<div>\n",
              "<style scoped>\n",
              "    .dataframe tbody tr th:only-of-type {\n",
              "        vertical-align: middle;\n",
              "    }\n",
              "\n",
              "    .dataframe tbody tr th {\n",
              "        vertical-align: top;\n",
              "    }\n",
              "\n",
              "    .dataframe thead th {\n",
              "        text-align: right;\n",
              "    }\n",
              "</style>\n",
              "<table border=\"1\" class=\"dataframe\">\n",
              "  <thead>\n",
              "    <tr style=\"text-align: right;\">\n",
              "      <th></th>\n",
              "      <th>Survived</th>\n",
              "      <th>Pclass</th>\n",
              "      <th>Sex</th>\n",
              "      <th>Age</th>\n",
              "      <th>SibSp</th>\n",
              "      <th>Parch</th>\n",
              "      <th>Fare</th>\n",
              "      <th>Embarked</th>\n",
              "      <th>cabin</th>\n",
              "    </tr>\n",
              "  </thead>\n",
              "  <tbody>\n",
              "    <tr>\n",
              "      <th>0</th>\n",
              "      <td>0</td>\n",
              "      <td>3</td>\n",
              "      <td>1</td>\n",
              "      <td>22.0</td>\n",
              "      <td>1</td>\n",
              "      <td>0</td>\n",
              "      <td>7.2500</td>\n",
              "      <td>1</td>\n",
              "      <td>0</td>\n",
              "    </tr>\n",
              "    <tr>\n",
              "      <th>1</th>\n",
              "      <td>1</td>\n",
              "      <td>1</td>\n",
              "      <td>2</td>\n",
              "      <td>38.0</td>\n",
              "      <td>1</td>\n",
              "      <td>0</td>\n",
              "      <td>71.2833</td>\n",
              "      <td>2</td>\n",
              "      <td>1</td>\n",
              "    </tr>\n",
              "  </tbody>\n",
              "</table>\n",
              "</div>"
            ],
            "text/plain": [
              "   Survived  Pclass  Sex   Age  SibSp  Parch     Fare  Embarked  cabin\n",
              "0         0       3    1  22.0      1      0   7.2500         1      0\n",
              "1         1       1    2  38.0      1      0  71.2833         2      1"
            ]
          },
          "metadata": {},
          "execution_count": 81
        }
      ]
    },
    {
      "cell_type": "markdown",
      "source": [
        "We encoded categorical data using ordinal encoder"
      ],
      "metadata": {
        "id": "tt-ASDK5pNiM"
      }
    },
    {
      "cell_type": "markdown",
      "metadata": {
        "id": "vTbdjSrhVIiT"
      },
      "source": [
        "## 7. Implementing the Solution"
      ]
    },
    {
      "cell_type": "code",
      "source": [
        "#Splitting our dataset into target and features\n",
        "X=df.drop([\"Survived\"],1)\n",
        "y=df[[\"Survived\"]]\n",
        "\n",
        "#Survived column is our target variable as it tells us whether someone survived or not"
      ],
      "metadata": {
        "id": "TlrvY2fUweOX"
      },
      "execution_count": 94,
      "outputs": []
    },
    {
      "cell_type": "markdown",
      "source": [
        "## a) 80-20 Train and Test Set Split"
      ],
      "metadata": {
        "id": "prrpozAhvEqX"
      }
    },
    {
      "cell_type": "code",
      "source": [
        "#splitting the data into train and test\n",
        "from sklearn.model_selection import train_test_split\n",
        "X_train, X_test, y_train, y_test = train_test_split(X, y, test_size=0.2, random_state=0)\n",
        "\n",
        "# We will perform feature scalling using standard scaller\n",
        "from sklearn.preprocessing import StandardScaler\n",
        "scaler = StandardScaler()\n",
        "scaler.fit(X_train)\n",
        "\n",
        "X_train = scaler.transform(X_train)\n",
        "X_test = scaler.transform(X_test)"
      ],
      "metadata": {
        "id": "Cqaw_YIZxW44"
      },
      "execution_count": 95,
      "outputs": []
    },
    {
      "cell_type": "code",
      "source": [
        "#hypeparameter tuning\n",
        "from sklearn.model_selection import GridSearchCV\n",
        "params = { 'n_neighbors' : [5,7,9,11,13,15],\n",
        "            'weights' : ['uniform','distance'],\n",
        "             \"p\":[1,2],\n",
        "            'weights': ['uniform','distance'],\n",
        "             \"leaf_size\" : [1,2,3,4,5],\n",
        "             'metric' : ['minkowski','euclidean','manhattan']}\n",
        "knn = KNeighborsClassifier()\n",
        "#fitting the model with the best parameters\n",
        "model = GridSearchCV(knn, params, cv=5)\n",
        "model.fit(X_train,y_train)\n",
        "model.best_params_"
      ],
      "metadata": {
        "colab": {
          "base_uri": "https://localhost:8080/"
        },
        "id": "-GFf8aC39gZa",
        "outputId": "3e9e4a31-5a92-4bc1-cd93-38cf9ce47ebe"
      },
      "execution_count": 114,
      "outputs": [
        {
          "output_type": "execute_result",
          "data": {
            "text/plain": [
              "{'leaf_size': 4,\n",
              " 'metric': 'minkowski',\n",
              " 'n_neighbors': 11,\n",
              " 'p': 1,\n",
              " 'weights': 'distance'}"
            ]
          },
          "metadata": {},
          "execution_count": 114
        }
      ]
    },
    {
      "cell_type": "code",
      "source": [
        "# fitting our model\n",
        "# \n",
        "from sklearn.neighbors import KNeighborsClassifier\n",
        "classifier = KNeighborsClassifier(leaf_size=1,metric=\"minkowski\",n_neighbors= 13,p= 2,weights='uniform')\n",
        "classifier.fit(X_train, y_train)\n",
        "#Making predictions\n",
        "\n",
        "y_pred=classifier.predict(X_test)\n",
        "\n",
        "# The confusion_matrix and classification_report\n",
        "print(confusion_matrix(y_test, y_pred))\n",
        "print(classification_report(y_test, y_pred))"
      ],
      "metadata": {
        "id": "1ZDo_2_kxF7o",
        "colab": {
          "base_uri": "https://localhost:8080/"
        },
        "outputId": "29bfb51c-50ea-4c69-9617-ea1a419db052"
      },
      "execution_count": 113,
      "outputs": [
        {
          "output_type": "stream",
          "name": "stdout",
          "text": [
            "[[185  31]\n",
            " [ 69  72]]\n",
            "              precision    recall  f1-score   support\n",
            "\n",
            "           0       0.73      0.86      0.79       216\n",
            "           1       0.70      0.51      0.59       141\n",
            "\n",
            "    accuracy                           0.72       357\n",
            "   macro avg       0.71      0.68      0.69       357\n",
            "weighted avg       0.72      0.72      0.71       357\n",
            "\n"
          ]
        }
      ]
    },
    {
      "cell_type": "markdown",
      "source": [
        "From the confusion matrix, we can see that (185+72) were predicted correcly and (31+69) were not predicted correctly.\n",
        "\n",
        "From the classification report,class 0 has a higher precision than class 1 (+3%)and  class 0 has a higher recall than class 1 (+35%)\n",
        "\n",
        "The accuracy of the model is 72% \n",
        "\n"
      ],
      "metadata": {
        "id": "xAs4VuN55HKi"
      }
    },
    {
      "cell_type": "markdown",
      "source": [
        "## b) 70-30 Train and Test Set Split"
      ],
      "metadata": {
        "id": "3od8sP3_1duN"
      }
    },
    {
      "cell_type": "code",
      "source": [
        "#splitting the data into train and test\n",
        "from sklearn.model_selection import train_test_split\n",
        "X_train, X_test, y_train, y_test = train_test_split(X, y, test_size=0.3, random_state=0)\n",
        "\n",
        "# We will perform feature scalling using standard scaller\n",
        "from sklearn.preprocessing import StandardScaler\n",
        "scaler = StandardScaler()\n",
        "scaler.fit(X_train)\n",
        "\n",
        "X_train = scaler.transform(X_train)\n",
        "X_test = scaler.transform(X_test)"
      ],
      "metadata": {
        "id": "1rststpj1dVz"
      },
      "execution_count": 98,
      "outputs": []
    },
    {
      "cell_type": "code",
      "source": [
        "#hypeparameter tuning\n",
        "from sklearn.model_selection import GridSearchCV\n",
        "params = { 'n_neighbors' : [5,7,9,11,13,15],\n",
        "            'weights' : ['uniform','distance'],\n",
        "             \"p\":[1,2],\n",
        "            'weights': ['uniform','distance'],\n",
        "             \"leaf_size\" : [1,2,3,4,5],\n",
        "             'metric' : ['minkowski','euclidean','manhattan']}\n",
        "knn = KNeighborsClassifier()\n",
        "#fitting the model with the best parameters\n",
        "model = GridSearchCV(knn, params, cv=5)\n",
        "model.fit(X_train,y_train)\n",
        "model.best_params_"
      ],
      "metadata": {
        "colab": {
          "base_uri": "https://localhost:8080/"
        },
        "id": "rLZEUGeW9iws",
        "outputId": "8a836b17-bd2c-47b6-9dff-f737f01abdb8"
      },
      "execution_count": 99,
      "outputs": [
        {
          "output_type": "execute_result",
          "data": {
            "text/plain": [
              "{'leaf_size': 1,\n",
              " 'metric': 'minkowski',\n",
              " 'n_neighbors': 15,\n",
              " 'p': 1,\n",
              " 'weights': 'uniform'}"
            ]
          },
          "metadata": {},
          "execution_count": 99
        }
      ]
    },
    {
      "cell_type": "code",
      "source": [
        "# fitting our model\n",
        "# \n",
        "from sklearn.neighbors import KNeighborsClassifier\n",
        "classifier = KNeighborsClassifier(leaf_size=1,metric=\"minkowski\",n_neighbors= 15,p= 1,weights='uniform')\n",
        "classifier.fit(X_train, y_train)\n",
        "#Making predictions\n",
        "\n",
        "y_pred=classifier.predict(X_test)\n",
        "\n",
        "# The confusion_matrix and classification_report\n",
        "print(confusion_matrix(y_test, y_pred))\n",
        "print(classification_report(y_test, y_pred))"
      ],
      "metadata": {
        "colab": {
          "base_uri": "https://localhost:8080/"
        },
        "id": "ttZYbbvA19j-",
        "outputId": "0cac0010-a287-4bab-88ef-bef94b747141"
      },
      "execution_count": 112,
      "outputs": [
        {
          "output_type": "stream",
          "name": "stdout",
          "text": [
            "[[189  27]\n",
            " [ 62  79]]\n",
            "              precision    recall  f1-score   support\n",
            "\n",
            "           0       0.75      0.88      0.81       216\n",
            "           1       0.75      0.56      0.64       141\n",
            "\n",
            "    accuracy                           0.75       357\n",
            "   macro avg       0.75      0.72      0.72       357\n",
            "weighted avg       0.75      0.75      0.74       357\n",
            "\n"
          ]
        }
      ]
    },
    {
      "cell_type": "markdown",
      "source": [
        "From the confusion matrix, we can see that (189+79) were predicted correcly and (62+27) were not predicted correctly.\n",
        "\n",
        "From the classification report,the two classes have the same precision and class 0 has a higher recall than class 1 (+32%)\n",
        "\n",
        "The accuracy of the model is 75%"
      ],
      "metadata": {
        "id": "cTWbVN1X7OL0"
      }
    },
    {
      "cell_type": "markdown",
      "source": [
        "## C)60-40 train and test set split"
      ],
      "metadata": {
        "id": "efOrTnuG2Hvx"
      }
    },
    {
      "cell_type": "code",
      "source": [
        "#splitting the data into train and test\n",
        "from sklearn.model_selection import train_test_split\n",
        "X_train, X_test, y_train, y_test = train_test_split(X, y, test_size=0.4, random_state=0)\n",
        "\n",
        "# We will perform feature scalling using standard scaller\n",
        "from sklearn.preprocessing import StandardScaler\n",
        "scaler = StandardScaler()\n",
        "scaler.fit(X_train)\n",
        "\n",
        "X_train = scaler.transform(X_train)\n",
        "X_test = scaler.transform(X_test)"
      ],
      "metadata": {
        "id": "5jDjWwnt2Hcp"
      },
      "execution_count": 115,
      "outputs": []
    },
    {
      "cell_type": "code",
      "source": [
        "#hypeparameter tuning\n",
        "from sklearn.model_selection import GridSearchCV\n",
        "params = { 'n_neighbors' : [5,7,9,11,13,15],\n",
        "            'weights' : ['uniform','distance'],\n",
        "             \"p\":[1,2],\n",
        "            'weights': ['uniform','distance'],\n",
        "             \"leaf_size\" : [1,2,3,4,5],\n",
        "             'metric' : ['minkowski','euclidean','manhattan']}\n",
        "knn = KNeighborsClassifier()\n",
        "#fitting the model with the best parameters\n",
        "model = GridSearchCV(knn, params, cv=5)\n",
        "model.fit(X_train,y_train)\n",
        "model.best_params_"
      ],
      "metadata": {
        "colab": {
          "base_uri": "https://localhost:8080/"
        },
        "id": "xHn96oRW9kpZ",
        "outputId": "644e9375-9fc9-48c3-cb8b-0a0b9a73617d"
      },
      "execution_count": 116,
      "outputs": [
        {
          "output_type": "execute_result",
          "data": {
            "text/plain": [
              "{'leaf_size': 1,\n",
              " 'metric': 'minkowski',\n",
              " 'n_neighbors': 11,\n",
              " 'p': 2,\n",
              " 'weights': 'uniform'}"
            ]
          },
          "metadata": {},
          "execution_count": 116
        }
      ]
    },
    {
      "cell_type": "code",
      "source": [
        "# fitting our model\n",
        "# \n",
        "from sklearn.neighbors import KNeighborsClassifier\n",
        "classifier = KNeighborsClassifier(leaf_size=1,metric=\"minkowski\",n_neighbors= 11,p= 2,weights='uniform')\n",
        "classifier.fit(X_train, y_train)\n",
        "#Making predictions\n",
        "\n",
        "y_pred=classifier.predict(X_test)\n",
        "\n",
        "# The confusion_matrix and classification_report\n",
        "print(confusion_matrix(y_test, y_pred))\n",
        "print(classification_report(y_test, y_pred))"
      ],
      "metadata": {
        "colab": {
          "base_uri": "https://localhost:8080/"
        },
        "id": "LNwaUcnb2Xaz",
        "outputId": "0fa68c4e-4450-4817-ae1b-de6432943db0"
      },
      "execution_count": 117,
      "outputs": [
        {
          "output_type": "stream",
          "name": "stdout",
          "text": [
            "[[198  23]\n",
            " [ 45  91]]\n",
            "              precision    recall  f1-score   support\n",
            "\n",
            "           0       0.81      0.90      0.85       221\n",
            "           1       0.80      0.67      0.73       136\n",
            "\n",
            "    accuracy                           0.81       357\n",
            "   macro avg       0.81      0.78      0.79       357\n",
            "weighted avg       0.81      0.81      0.81       357\n",
            "\n"
          ]
        }
      ]
    },
    {
      "cell_type": "markdown",
      "source": [
        "From the confusion matrix, we can see that (198+91) were predicted correcly and (23+45) were not predicted correctly.\n",
        "\n",
        "From the classification report,class 0 has a higher precision than class 1 (+1%)and class 0 has a higher recall than class 1 (+27%)\n",
        "\n",
        "The accuracy of the model is 81%"
      ],
      "metadata": {
        "id": "E_qjB4SV7i-u"
      }
    },
    {
      "cell_type": "markdown",
      "source": [
        "The 60-40 train and test set split has the highest accuracy compared to other models.\n",
        "We shall perform data reduction to see how our model will work."
      ],
      "metadata": {
        "id": "AVk2xOHXBxFT"
      }
    },
    {
      "cell_type": "markdown",
      "metadata": {
        "id": "lQ2G4ZPDVOXE"
      },
      "source": [
        "## 8. Challenging the solution"
      ]
    },
    {
      "cell_type": "code",
      "source": [
        "#Splitting our dataset into target and features\n",
        "X=df.drop([\"Survived\"],1)\n",
        "y=df[[\"Survived\"]]\n",
        "\n",
        "from sklearn.model_selection import train_test_split\n",
        "X_train, X_test, y_train, y_test = train_test_split(X, y, test_size=0.4, random_state=42)\n",
        "\n",
        "#scalling the data\n",
        "# standardize our data\n",
        "from sklearn.preprocessing import StandardScaler\n",
        "scaler = StandardScaler()\n",
        "scaler.fit(X_train)\n",
        "\n",
        "X_train = scaler.transform(X_train)\n",
        "X_test = scaler.transform(X_test)"
      ],
      "metadata": {
        "id": "3rNH5uMV-lhQ"
      },
      "execution_count": 118,
      "outputs": []
    },
    {
      "cell_type": "code",
      "source": [
        "# Data Reduction\n",
        "#We shall use PCA because it maintains variance spread across the data\n",
        "#Hence, all four of the features in the feature set will be returned for both the training and test sets.\n",
        "# \n",
        "from sklearn.decomposition import PCA\n",
        "\n",
        "pca = PCA()\n",
        "X_train = pca.fit_transform(X_train)\n",
        "X_test = pca.transform(X_test)"
      ],
      "metadata": {
        "id": "AQWjPDAe-61L"
      },
      "execution_count": 119,
      "outputs": []
    },
    {
      "cell_type": "code",
      "source": [
        "#hypeparameter tuning\n",
        "from sklearn.model_selection import GridSearchCV\n",
        "params = { 'n_neighbors' : [5,7,9,11,13,15],\n",
        "            'weights' : ['uniform','distance'],\n",
        "             \"p\":[1,2],\n",
        "            'weights': ['uniform','distance'],\n",
        "             \"leaf_size\" : [1,2,3,4,5],\n",
        "             'metric' : ['minkowski','euclidean','manhattan']}\n",
        "knn = KNeighborsClassifier()\n",
        "#fitting the model with the best parameters\n",
        "model = GridSearchCV(knn, params, cv=5)\n",
        "model.fit(X_train,y_train)\n",
        "model.best_params_"
      ],
      "metadata": {
        "colab": {
          "base_uri": "https://localhost:8080/"
        },
        "id": "pNSWIW62vJ8b",
        "outputId": "c65bb341-f6b6-4035-d737-8b261ba73e38"
      },
      "execution_count": 120,
      "outputs": [
        {
          "output_type": "execute_result",
          "data": {
            "text/plain": [
              "{'leaf_size': 1,\n",
              " 'metric': 'minkowski',\n",
              " 'n_neighbors': 11,\n",
              " 'p': 1,\n",
              " 'weights': 'uniform'}"
            ]
          },
          "metadata": {},
          "execution_count": 120
        }
      ]
    },
    {
      "cell_type": "code",
      "source": [
        "# fitting our model\n",
        "# \n",
        "from sklearn.neighbors import KNeighborsClassifier\n",
        "classifier = KNeighborsClassifier(leaf_size=1,metric=\"minkowski\",n_neighbors= 11,p= 1,weights='uniform')\n",
        "classifier.fit(X_train, y_train)\n",
        "#Making predictions\n",
        "\n",
        "y_pred=classifier.predict(X_test)\n",
        "\n",
        "# The confusion_matrix and classification_report\n",
        "print(confusion_matrix(y_test, y_pred))\n",
        "print(classification_report(y_test, y_pred))"
      ],
      "metadata": {
        "colab": {
          "base_uri": "https://localhost:8080/"
        },
        "id": "xRftMPpqCTVM",
        "outputId": "f303f31c-a6bb-4d04-c45b-60e93ee7f28b"
      },
      "execution_count": 121,
      "outputs": [
        {
          "output_type": "stream",
          "name": "stdout",
          "text": [
            "[[195  21]\n",
            " [ 49  92]]\n",
            "              precision    recall  f1-score   support\n",
            "\n",
            "           0       0.80      0.90      0.85       216\n",
            "           1       0.81      0.65      0.72       141\n",
            "\n",
            "    accuracy                           0.80       357\n",
            "   macro avg       0.81      0.78      0.79       357\n",
            "weighted avg       0.81      0.80      0.80       357\n",
            "\n"
          ]
        }
      ]
    },
    {
      "cell_type": "markdown",
      "source": [
        "After reducing the data, we can see that;\n",
        "From the confusion matrix, we can see that (195+92) were predicted correcly and (21+49) were not predicted correctly.\n",
        "\n",
        "From the classification report,class 1 has a higher precision than class 1 (+1%)and class 0 has a higher recall than class 1 (+25%)\n",
        "\n",
        "The accuracy of the model drops to 80%"
      ],
      "metadata": {
        "id": "pIPBOaNKC9tD"
      }
    },
    {
      "cell_type": "code",
      "source": [
        "#Splitting our dataset into target and features\n",
        "X=df.drop([\"Survived\"],1)\n",
        "y=df[[\"Survived\"]]\n",
        "\n",
        "from sklearn.model_selection import train_test_split\n",
        "X_train, X_test, y_train, y_test = train_test_split(X, y, test_size=0.4, random_state=42)\n",
        "\n",
        "#scalling the data\n",
        "# standardize our data\n",
        "from sklearn.preprocessing import StandardScaler\n",
        "scaler = StandardScaler()\n",
        "scaler.fit(X_train)\n",
        "\n",
        "X_train = scaler.transform(X_train)\n",
        "X_test = scaler.transform(X_test)\n",
        "\n",
        "# Import the LDA class from the sklearn library\n",
        "from sklearn.discriminant_analysis import LinearDiscriminantAnalysis as LDA\n",
        "\n",
        "# Specify the n_components as 1 so as to check the performance of our classifier with a single linear discriminant\n",
        "lda = LDA(n_components=1)\n",
        "X_train = lda.fit_transform(X_train, y_train)\n",
        "X_test = lda.transform(X_test)"
      ],
      "metadata": {
        "id": "fs5ngVJPDxmU"
      },
      "execution_count": 122,
      "outputs": []
    },
    {
      "cell_type": "code",
      "source": [
        "#hypeparameter tuning\n",
        "from sklearn.model_selection import GridSearchCV\n",
        "params = { 'n_neighbors' : [5,7,9,11,13,15],\n",
        "            'weights' : ['uniform','distance'],\n",
        "             \"p\":[1,2],\n",
        "            'weights': ['uniform','distance'],\n",
        "             \"leaf_size\" : [1,2,3,4,5],\n",
        "             'metric' : ['minkowski','euclidean','manhattan']}\n",
        "knn = KNeighborsClassifier()\n",
        "#fitting the model with the best parameters\n",
        "model = GridSearchCV(knn, params, cv=5)\n",
        "model.fit(X_train,y_train)\n",
        "model.best_params_"
      ],
      "metadata": {
        "colab": {
          "base_uri": "https://localhost:8080/"
        },
        "id": "x5oZO4IyD3TS",
        "outputId": "4ae769bd-e300-409b-cf85-d224cedb2c12"
      },
      "execution_count": 123,
      "outputs": [
        {
          "output_type": "execute_result",
          "data": {
            "text/plain": [
              "{'leaf_size': 1,\n",
              " 'metric': 'minkowski',\n",
              " 'n_neighbors': 11,\n",
              " 'p': 1,\n",
              " 'weights': 'uniform'}"
            ]
          },
          "metadata": {},
          "execution_count": 123
        }
      ]
    },
    {
      "cell_type": "code",
      "source": [
        "# fitting our model\n",
        "# \n",
        "from sklearn.neighbors import KNeighborsClassifier\n",
        "classifier = KNeighborsClassifier(leaf_size=1,metric=\"minkowski\",n_neighbors= 11,p= 1,weights='uniform')\n",
        "classifier.fit(X_train, y_train)\n",
        "#Making predictions\n",
        "\n",
        "y_pred=classifier.predict(X_test)\n",
        "\n",
        "# The confusion_matrix and classification_report\n",
        "print(confusion_matrix(y_test, y_pred))\n",
        "print(classification_report(y_test, y_pred))"
      ],
      "metadata": {
        "colab": {
          "base_uri": "https://localhost:8080/"
        },
        "id": "LneaxkA4D8Ky",
        "outputId": "2ad693eb-ca77-4504-c0eb-03aa1a4f614a"
      },
      "execution_count": 124,
      "outputs": [
        {
          "output_type": "stream",
          "name": "stdout",
          "text": [
            "[[189  27]\n",
            " [ 48  93]]\n",
            "              precision    recall  f1-score   support\n",
            "\n",
            "           0       0.80      0.88      0.83       216\n",
            "           1       0.78      0.66      0.71       141\n",
            "\n",
            "    accuracy                           0.79       357\n",
            "   macro avg       0.79      0.77      0.77       357\n",
            "weighted avg       0.79      0.79      0.79       357\n",
            "\n"
          ]
        }
      ]
    },
    {
      "cell_type": "markdown",
      "source": [
        "After reducing the data, we can see that; From the confusion matrix, we can see that (189+93) were predicted correcly and (27+48) were not predicted correctly.\n",
        "\n",
        "From the classification report,class 0 has a higher precision than class 1 (+2%)and class 0 has a higher recall than class 1 (+24%)\n",
        "\n",
        "The accuracy of the model drops to 79%"
      ],
      "metadata": {
        "id": "JW69aGIWEShF"
      }
    },
    {
      "cell_type": "markdown",
      "metadata": {
        "id": "xrmHVMVsVS--"
      },
      "source": [
        "## 9. Follow up questions"
      ]
    },
    {
      "cell_type": "markdown",
      "metadata": {
        "id": "HPQviDmNtta8"
      },
      "source": [
        "### a). Did we have the right data?"
      ]
    },
    {
      "cell_type": "markdown",
      "source": [
        "we had the right data because passenger data such as the age, passenger class and the gender would be essential in helping us predict whether a passenger survived or not in our Titanic dataset."
      ],
      "metadata": {
        "id": "eBMTeOayRW-5"
      }
    },
    {
      "cell_type": "markdown",
      "metadata": {
        "id": "qjFHK1CKty7o"
      },
      "source": [
        "### b). Do we need other data to answer our question?"
      ]
    },
    {
      "cell_type": "markdown",
      "source": [
        "I believe the data we had sufficient to help us predict whether a passenger survived or not in our dataset."
      ],
      "metadata": {
        "id": "wIj5mz9XRiA8"
      }
    }
  ]
}